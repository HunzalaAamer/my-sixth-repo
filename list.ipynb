{
 "cells": [
  {
   "cell_type": "code",
   "execution_count": 3,
   "id": "c1166a52",
   "metadata": {},
   "outputs": [
    {
     "name": "stdout",
     "output_type": "stream",
     "text": [
      "     Name  Age  Salary\n",
      "0   ahmad   20   30000\n",
      "1  hammad   26   70000\n",
      "2   hamid   35  100000\n"
     ]
    }
   ],
   "source": [
    "import pandas as pd\n",
    "data= {\n",
    "\"Name\": [\"ahmad\", \"hammad\", \"hamid\"],\n",
    "\"Age\": [20, 26, 35],\n",
    "\"Salary\": [30000, 70000, 100000]\n",
    "}\n",
    "df = pd.DataFrame(data)\n",
    "print(df.head())  "
   ]
  }
 ],
 "metadata": {
  "kernelspec": {
   "display_name": "base",
   "language": "python",
   "name": "python3"
  },
  "language_info": {
   "codemirror_mode": {
    "name": "ipython",
    "version": 3
   },
   "file_extension": ".py",
   "mimetype": "text/x-python",
   "name": "python",
   "nbconvert_exporter": "python",
   "pygments_lexer": "ipython3",
   "version": "3.13.2"
  }
 },
 "nbformat": 4,
 "nbformat_minor": 5
}
