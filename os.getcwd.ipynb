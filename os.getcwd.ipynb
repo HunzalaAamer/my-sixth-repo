{
 "cells": [
  {
   "cell_type": "code",
   "execution_count": null,
   "id": "c39afad2",
   "metadata": {},
   "outputs": [
    {
     "name": "stdout",
     "output_type": "stream",
     "text": [
      "Current folder: d:\\first programmer\\second program\n",
      "File created!\n"
     ]
    }
   ],
   "source": [
    "import os\n",
    "\n",
    "print(\"Current folder:\", os.getcwd())\n",
    "\n",
    "with open(\"my_file.txt\", \"w\") as f:\n",
    "    f.write(f\"Created in: {os.getcwd()}\")\n",
    "\n",
    "print(\"File created!\")"
   ]
  }
 ],
 "metadata": {
  "kernelspec": {
   "display_name": "base",
   "language": "python",
   "name": "python3"
  },
  "language_info": {
   "codemirror_mode": {
    "name": "ipython",
    "version": 3
   },
   "file_extension": ".py",
   "mimetype": "text/x-python",
   "name": "python",
   "nbconvert_exporter": "python",
   "pygments_lexer": "ipython3",
   "version": "3.13.2"
  }
 },
 "nbformat": 4,
 "nbformat_minor": 5
}
